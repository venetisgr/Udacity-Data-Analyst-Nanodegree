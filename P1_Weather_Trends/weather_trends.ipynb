{
 "cells": [
  {
   "cell_type": "code",
   "execution_count": 1,
   "metadata": {},
   "outputs": [],
   "source": [
    "import pandas as pd\n",
    "\n",
    "%matplotlib inline\n",
    "import matplotlib.pyplot as plt\n"
   ]
  },
  {
   "cell_type": "code",
   "execution_count": 2,
   "metadata": {},
   "outputs": [],
   "source": [
    "data = pd.read_csv(\"results.csv\")"
   ]
  },
  {
   "cell_type": "code",
   "execution_count": 3,
   "metadata": {},
   "outputs": [
    {
     "data": {
      "text/html": [
       "<div>\n",
       "<style scoped>\n",
       "    .dataframe tbody tr th:only-of-type {\n",
       "        vertical-align: middle;\n",
       "    }\n",
       "\n",
       "    .dataframe tbody tr th {\n",
       "        vertical-align: top;\n",
       "    }\n",
       "\n",
       "    .dataframe thead th {\n",
       "        text-align: right;\n",
       "    }\n",
       "</style>\n",
       "<table border=\"1\" class=\"dataframe\">\n",
       "  <thead>\n",
       "    <tr style=\"text-align: right;\">\n",
       "      <th></th>\n",
       "      <th>year</th>\n",
       "      <th>city</th>\n",
       "      <th>avg_temp_athens</th>\n",
       "      <th>avg_temp_global</th>\n",
       "    </tr>\n",
       "  </thead>\n",
       "  <tbody>\n",
       "    <tr>\n",
       "      <th>0</th>\n",
       "      <td>1753</td>\n",
       "      <td>Athens</td>\n",
       "      <td>17.35</td>\n",
       "      <td>8.39</td>\n",
       "    </tr>\n",
       "    <tr>\n",
       "      <th>1</th>\n",
       "      <td>1754</td>\n",
       "      <td>Athens</td>\n",
       "      <td>17.47</td>\n",
       "      <td>8.47</td>\n",
       "    </tr>\n",
       "    <tr>\n",
       "      <th>2</th>\n",
       "      <td>1755</td>\n",
       "      <td>Athens</td>\n",
       "      <td>17.22</td>\n",
       "      <td>8.36</td>\n",
       "    </tr>\n",
       "    <tr>\n",
       "      <th>3</th>\n",
       "      <td>1756</td>\n",
       "      <td>Athens</td>\n",
       "      <td>17.92</td>\n",
       "      <td>8.85</td>\n",
       "    </tr>\n",
       "    <tr>\n",
       "      <th>4</th>\n",
       "      <td>1757</td>\n",
       "      <td>Athens</td>\n",
       "      <td>17.68</td>\n",
       "      <td>9.02</td>\n",
       "    </tr>\n",
       "    <tr>\n",
       "      <th>5</th>\n",
       "      <td>1758</td>\n",
       "      <td>Athens</td>\n",
       "      <td>16.07</td>\n",
       "      <td>6.74</td>\n",
       "    </tr>\n",
       "    <tr>\n",
       "      <th>6</th>\n",
       "      <td>1759</td>\n",
       "      <td>Athens</td>\n",
       "      <td>17.11</td>\n",
       "      <td>7.99</td>\n",
       "    </tr>\n",
       "    <tr>\n",
       "      <th>7</th>\n",
       "      <td>1760</td>\n",
       "      <td>Athens</td>\n",
       "      <td>16.61</td>\n",
       "      <td>7.19</td>\n",
       "    </tr>\n",
       "    <tr>\n",
       "      <th>8</th>\n",
       "      <td>1761</td>\n",
       "      <td>Athens</td>\n",
       "      <td>17.65</td>\n",
       "      <td>8.77</td>\n",
       "    </tr>\n",
       "    <tr>\n",
       "      <th>9</th>\n",
       "      <td>1762</td>\n",
       "      <td>Athens</td>\n",
       "      <td>17.55</td>\n",
       "      <td>8.61</td>\n",
       "    </tr>\n",
       "  </tbody>\n",
       "</table>\n",
       "</div>"
      ],
      "text/plain": [
       "   year    city  avg_temp_athens  avg_temp_global\n",
       "0  1753  Athens            17.35             8.39\n",
       "1  1754  Athens            17.47             8.47\n",
       "2  1755  Athens            17.22             8.36\n",
       "3  1756  Athens            17.92             8.85\n",
       "4  1757  Athens            17.68             9.02\n",
       "5  1758  Athens            16.07             6.74\n",
       "6  1759  Athens            17.11             7.99\n",
       "7  1760  Athens            16.61             7.19\n",
       "8  1761  Athens            17.65             8.77\n",
       "9  1762  Athens            17.55             8.61"
      ]
     },
     "execution_count": 3,
     "metadata": {},
     "output_type": "execute_result"
    }
   ],
   "source": [
    "data.head(10)"
   ]
  },
  {
   "cell_type": "markdown",
   "metadata": {},
   "source": [
    "Moving average calculation "
   ]
  },
  {
   "cell_type": "code",
   "execution_count": 4,
   "metadata": {},
   "outputs": [],
   "source": [
    "data['global_avg_3'] = data[\"avg_temp_global\"].rolling(window=3).mean()\n",
    "data['global_avg_5'] = data[\"avg_temp_global\"].rolling(window=5).mean()\n",
    "data['global_avg_7'] = data[\"avg_temp_global\"].rolling(window=7).mean()\n",
    "data['city_avg_3'] = data[\"avg_temp_athens\"].rolling(window=3).mean()\n",
    "data['city_avg_5'] = data[\"avg_temp_athens\"].rolling(window=5).mean()\n",
    "data['city_avg_7'] = data[\"avg_temp_athens\"].rolling(window=7).mean()"
   ]
  },
  {
   "cell_type": "code",
   "execution_count": 5,
   "metadata": {},
   "outputs": [
    {
     "data": {
      "text/html": [
       "<div>\n",
       "<style scoped>\n",
       "    .dataframe tbody tr th:only-of-type {\n",
       "        vertical-align: middle;\n",
       "    }\n",
       "\n",
       "    .dataframe tbody tr th {\n",
       "        vertical-align: top;\n",
       "    }\n",
       "\n",
       "    .dataframe thead th {\n",
       "        text-align: right;\n",
       "    }\n",
       "</style>\n",
       "<table border=\"1\" class=\"dataframe\">\n",
       "  <thead>\n",
       "    <tr style=\"text-align: right;\">\n",
       "      <th></th>\n",
       "      <th>year</th>\n",
       "      <th>city</th>\n",
       "      <th>avg_temp_athens</th>\n",
       "      <th>avg_temp_global</th>\n",
       "      <th>global_avg_3</th>\n",
       "      <th>global_avg_5</th>\n",
       "      <th>global_avg_7</th>\n",
       "      <th>city_avg_3</th>\n",
       "      <th>city_avg_5</th>\n",
       "      <th>city_avg_7</th>\n",
       "    </tr>\n",
       "  </thead>\n",
       "  <tbody>\n",
       "    <tr>\n",
       "      <th>0</th>\n",
       "      <td>1753</td>\n",
       "      <td>Athens</td>\n",
       "      <td>17.35</td>\n",
       "      <td>8.39</td>\n",
       "      <td>NaN</td>\n",
       "      <td>NaN</td>\n",
       "      <td>NaN</td>\n",
       "      <td>NaN</td>\n",
       "      <td>NaN</td>\n",
       "      <td>NaN</td>\n",
       "    </tr>\n",
       "    <tr>\n",
       "      <th>1</th>\n",
       "      <td>1754</td>\n",
       "      <td>Athens</td>\n",
       "      <td>17.47</td>\n",
       "      <td>8.47</td>\n",
       "      <td>NaN</td>\n",
       "      <td>NaN</td>\n",
       "      <td>NaN</td>\n",
       "      <td>NaN</td>\n",
       "      <td>NaN</td>\n",
       "      <td>NaN</td>\n",
       "    </tr>\n",
       "    <tr>\n",
       "      <th>2</th>\n",
       "      <td>1755</td>\n",
       "      <td>Athens</td>\n",
       "      <td>17.22</td>\n",
       "      <td>8.36</td>\n",
       "      <td>8.406667</td>\n",
       "      <td>NaN</td>\n",
       "      <td>NaN</td>\n",
       "      <td>17.346667</td>\n",
       "      <td>NaN</td>\n",
       "      <td>NaN</td>\n",
       "    </tr>\n",
       "    <tr>\n",
       "      <th>3</th>\n",
       "      <td>1756</td>\n",
       "      <td>Athens</td>\n",
       "      <td>17.92</td>\n",
       "      <td>8.85</td>\n",
       "      <td>8.560000</td>\n",
       "      <td>NaN</td>\n",
       "      <td>NaN</td>\n",
       "      <td>17.536667</td>\n",
       "      <td>NaN</td>\n",
       "      <td>NaN</td>\n",
       "    </tr>\n",
       "    <tr>\n",
       "      <th>4</th>\n",
       "      <td>1757</td>\n",
       "      <td>Athens</td>\n",
       "      <td>17.68</td>\n",
       "      <td>9.02</td>\n",
       "      <td>8.743333</td>\n",
       "      <td>8.618</td>\n",
       "      <td>NaN</td>\n",
       "      <td>17.606667</td>\n",
       "      <td>17.528</td>\n",
       "      <td>NaN</td>\n",
       "    </tr>\n",
       "    <tr>\n",
       "      <th>5</th>\n",
       "      <td>1758</td>\n",
       "      <td>Athens</td>\n",
       "      <td>16.07</td>\n",
       "      <td>6.74</td>\n",
       "      <td>8.203333</td>\n",
       "      <td>8.288</td>\n",
       "      <td>NaN</td>\n",
       "      <td>17.223333</td>\n",
       "      <td>17.272</td>\n",
       "      <td>NaN</td>\n",
       "    </tr>\n",
       "    <tr>\n",
       "      <th>6</th>\n",
       "      <td>1759</td>\n",
       "      <td>Athens</td>\n",
       "      <td>17.11</td>\n",
       "      <td>7.99</td>\n",
       "      <td>7.916667</td>\n",
       "      <td>8.192</td>\n",
       "      <td>8.260000</td>\n",
       "      <td>16.953333</td>\n",
       "      <td>17.200</td>\n",
       "      <td>17.260000</td>\n",
       "    </tr>\n",
       "    <tr>\n",
       "      <th>7</th>\n",
       "      <td>1760</td>\n",
       "      <td>Athens</td>\n",
       "      <td>16.61</td>\n",
       "      <td>7.19</td>\n",
       "      <td>7.306667</td>\n",
       "      <td>7.958</td>\n",
       "      <td>8.088571</td>\n",
       "      <td>16.596667</td>\n",
       "      <td>17.078</td>\n",
       "      <td>17.154286</td>\n",
       "    </tr>\n",
       "    <tr>\n",
       "      <th>8</th>\n",
       "      <td>1761</td>\n",
       "      <td>Athens</td>\n",
       "      <td>17.65</td>\n",
       "      <td>8.77</td>\n",
       "      <td>7.983333</td>\n",
       "      <td>7.942</td>\n",
       "      <td>8.131429</td>\n",
       "      <td>17.123333</td>\n",
       "      <td>17.024</td>\n",
       "      <td>17.180000</td>\n",
       "    </tr>\n",
       "    <tr>\n",
       "      <th>9</th>\n",
       "      <td>1762</td>\n",
       "      <td>Athens</td>\n",
       "      <td>17.55</td>\n",
       "      <td>8.61</td>\n",
       "      <td>8.190000</td>\n",
       "      <td>7.860</td>\n",
       "      <td>8.167143</td>\n",
       "      <td>17.270000</td>\n",
       "      <td>16.998</td>\n",
       "      <td>17.227143</td>\n",
       "    </tr>\n",
       "  </tbody>\n",
       "</table>\n",
       "</div>"
      ],
      "text/plain": [
       "   year    city  avg_temp_athens  avg_temp_global  global_avg_3  global_avg_5  \\\n",
       "0  1753  Athens            17.35             8.39           NaN           NaN   \n",
       "1  1754  Athens            17.47             8.47           NaN           NaN   \n",
       "2  1755  Athens            17.22             8.36      8.406667           NaN   \n",
       "3  1756  Athens            17.92             8.85      8.560000           NaN   \n",
       "4  1757  Athens            17.68             9.02      8.743333         8.618   \n",
       "5  1758  Athens            16.07             6.74      8.203333         8.288   \n",
       "6  1759  Athens            17.11             7.99      7.916667         8.192   \n",
       "7  1760  Athens            16.61             7.19      7.306667         7.958   \n",
       "8  1761  Athens            17.65             8.77      7.983333         7.942   \n",
       "9  1762  Athens            17.55             8.61      8.190000         7.860   \n",
       "\n",
       "   global_avg_7  city_avg_3  city_avg_5  city_avg_7  \n",
       "0           NaN         NaN         NaN         NaN  \n",
       "1           NaN         NaN         NaN         NaN  \n",
       "2           NaN   17.346667         NaN         NaN  \n",
       "3           NaN   17.536667         NaN         NaN  \n",
       "4           NaN   17.606667      17.528         NaN  \n",
       "5           NaN   17.223333      17.272         NaN  \n",
       "6      8.260000   16.953333      17.200   17.260000  \n",
       "7      8.088571   16.596667      17.078   17.154286  \n",
       "8      8.131429   17.123333      17.024   17.180000  \n",
       "9      8.167143   17.270000      16.998   17.227143  "
      ]
     },
     "execution_count": 5,
     "metadata": {},
     "output_type": "execute_result"
    }
   ],
   "source": [
    "data.head(10)"
   ]
  },
  {
   "cell_type": "code",
   "execution_count": 6,
   "metadata": {},
   "outputs": [
    {
     "data": {
      "text/html": [
       "<div>\n",
       "<style scoped>\n",
       "    .dataframe tbody tr th:only-of-type {\n",
       "        vertical-align: middle;\n",
       "    }\n",
       "\n",
       "    .dataframe tbody tr th {\n",
       "        vertical-align: top;\n",
       "    }\n",
       "\n",
       "    .dataframe thead th {\n",
       "        text-align: right;\n",
       "    }\n",
       "</style>\n",
       "<table border=\"1\" class=\"dataframe\">\n",
       "  <thead>\n",
       "    <tr style=\"text-align: right;\">\n",
       "      <th></th>\n",
       "      <th>year</th>\n",
       "      <th>city</th>\n",
       "      <th>avg_temp_athens</th>\n",
       "      <th>avg_temp_global</th>\n",
       "      <th>global_avg_3</th>\n",
       "      <th>global_avg_5</th>\n",
       "      <th>global_avg_7</th>\n",
       "      <th>city_avg_3</th>\n",
       "      <th>city_avg_5</th>\n",
       "      <th>city_avg_7</th>\n",
       "    </tr>\n",
       "  </thead>\n",
       "  <tbody>\n",
       "    <tr>\n",
       "      <th>97</th>\n",
       "      <td>1850</td>\n",
       "      <td>Athens</td>\n",
       "      <td>16.47</td>\n",
       "      <td>7.9</td>\n",
       "      <td>7.953333</td>\n",
       "      <td>8.1</td>\n",
       "      <td>8.0</td>\n",
       "      <td>16.96</td>\n",
       "      <td>17.202</td>\n",
       "      <td>17.167143</td>\n",
       "    </tr>\n",
       "  </tbody>\n",
       "</table>\n",
       "</div>"
      ],
      "text/plain": [
       "    year    city  avg_temp_athens  avg_temp_global  global_avg_3  \\\n",
       "97  1850  Athens            16.47              7.9      7.953333   \n",
       "\n",
       "    global_avg_5  global_avg_7  city_avg_3  city_avg_5  city_avg_7  \n",
       "97           8.1           8.0       16.96      17.202   17.167143  "
      ]
     },
     "execution_count": 6,
     "metadata": {},
     "output_type": "execute_result"
    }
   ],
   "source": [
    "data[data.iloc[:,0] == 1850] # row 97 #Used in order to isolate a specific pattern"
   ]
  },
  {
   "cell_type": "code",
   "execution_count": 7,
   "metadata": {},
   "outputs": [
    {
     "data": {
      "text/plain": [
       "4"
      ]
     },
     "execution_count": 7,
     "metadata": {},
     "output_type": "execute_result"
    }
   ],
   "source": [
    "data.columns.get_loc(\"global_avg_3\")\n",
    "#data.iloc[3:,4]"
   ]
  },
  {
   "cell_type": "code",
   "execution_count": 8,
   "metadata": {},
   "outputs": [
    {
     "data": {
      "text/plain": [
       "RangeIndex(start=0, stop=261, step=1)"
      ]
     },
     "execution_count": 8,
     "metadata": {},
     "output_type": "execute_result"
    }
   ],
   "source": [
    "data.index"
   ]
  },
  {
   "cell_type": "code",
   "execution_count": 9,
   "metadata": {},
   "outputs": [
    {
     "data": {
      "image/png": "[encoded data removed]",
      "text/plain": [
       "<Figure size 432x288 with 1 Axes>"
      ]
     },
     "metadata": {
      "needs_background": "light"
     },
     "output_type": "display_data"
    }
   ],
   "source": [
    "fig = plt.figure()\n",
    "ax = plt.axes()\n",
    "\n",
    "x = data.iloc[2:,0]\n",
    "y = data.iloc[2:,4] #global\n",
    "z = data.iloc[2:,7] #city\n",
    "\n",
    "plt.title('3-year moving average')\n",
    "ax.set_xlabel('Years whose moving average was calculated')\n",
    "ax.set_ylabel('Temperature in Celcius')\n",
    "ax.plot(x, z, label='Athens') \n",
    "ax.plot(x, y, label='Global')\n",
    "ax.legend();"
   ]
  },
  {
   "cell_type": "code",
   "execution_count": 10,
   "metadata": {},
   "outputs": [
    {
     "data": {
      "image/png": "[encoded data removed]",
      "text/plain": [
       "<Figure size 432x288 with 1 Axes>"
      ]
     },
     "metadata": {
      "needs_background": "light"
     },
     "output_type": "display_data"
    }
   ],
   "source": [
    "fig = plt.figure()\n",
    "ax = plt.axes()\n",
    "\n",
    "x = data.iloc[4:,0]\n",
    "y = data.iloc[4:,5] #global\n",
    "z = data.iloc[4:,8] #city\n",
    "\n",
    "plt.title('5-year moving average')\n",
    "ax.set_xlabel('Years whose moving average was calculated')\n",
    "ax.set_ylabel('Temperature in Celcius')\n",
    "ax.plot(x, z, label='Athens') \n",
    "ax.plot(x, y, label='Global')\n",
    "ax.legend();"
   ]
  },
  {
   "cell_type": "code",
   "execution_count": 11,
   "metadata": {},
   "outputs": [
    {
     "data": {
      "image/png": "[encoded data removed]",
      "text/plain": [
       "<Figure size 432x288 with 1 Axes>"
      ]
     },
     "metadata": {
      "needs_background": "light"
     },
     "output_type": "display_data"
    }
   ],
   "source": [
    "fig = plt.figure()\n",
    "ax = plt.axes()\n",
    "\n",
    "x = data.iloc[6:,0]\n",
    "y = data.iloc[6:,6] #global\n",
    "z = data.iloc[6:,9] #city\n",
    "\n",
    "plt.title('7-year moving average')\n",
    "ax.set_xlabel('Years whose moving average was calculated')\n",
    "ax.set_ylabel('Temperature in Celcius')\n",
    "ax.plot(x, z, label='Athens') \n",
    "ax.plot(x, y, label='Global')\n",
    "ax.legend();"
   ]
  },
  {
   "cell_type": "markdown",
   "metadata": {},
   "source": [
    "I would say that the 3-year moving average  depiction contains a lot of noise and it would be hard to identify important patterns\n",
    "\n",
    "The 7-year moving average depiction has been filtered a lot and has lost a lot of patterns\n",
    "\n",
    "The 5-year moving average is the best depiction in my opinion. It has been filtered of a lot of noise, but the important patterns have not been removed. Furthermore, it is easy to notice the general trends in both temperature measurements."
   ]
  },
  {
   "cell_type": "code",
   "execution_count": null,
   "metadata": {},
   "outputs": [],
   "source": []
  },
  {
   "cell_type": "markdown",
   "metadata": {},
   "source": [
    "The diagram can be split in 2 periods, one until the year 1850 and one after that year. (Observation 1)\n",
    "\n",
    "During the first period, both the global temperature and the temperature in Athens were subject to minor temperature fluctuations. In the second period it can been seen that there was a slight gradual increase in both observed temperatures.\n",
    "\n",
    "Furthermore, it can be observed that both the line graph of global temperature and temperature in Athens had similar trends. That can been seen from a closer inspection of the 2 periods bellow. (Observation 2)"
   ]
  },
  {
   "cell_type": "code",
   "execution_count": 13,
   "metadata": {},
   "outputs": [
    {
     "data": {
      "image/png": "[encoded data removed]",
      "text/plain": [
       "<Figure size 432x288 with 1 Axes>"
      ]
     },
     "metadata": {
      "needs_background": "light"
     },
     "output_type": "display_data"
    }
   ],
   "source": [
    "fig = plt.figure()\n",
    "ax = plt.axes()\n",
    "\n",
    "x = data.iloc[4:97,0]\n",
    "y = data.iloc[4:97,5] #global\n",
    "z = data.iloc[4:97,8] -8 #city\n",
    "ax.plot(x, z) \n",
    "ax.plot(x, y);"
   ]
  },
  {
   "cell_type": "markdown",
   "metadata": {},
   "source": [
    "Another small detail that should be noted is that in the cases were a peak or a minimum was observed in global temperature, a similar one was observed in the local temperature"
   ]
  },
  {
   "cell_type": "code",
   "execution_count": 14,
   "metadata": {},
   "outputs": [
    {
     "data": {
      "image/png": "[encoded data removed]",
      "text/plain": [
       "<Figure size 432x288 with 1 Axes>"
      ]
     },
     "metadata": {
      "needs_background": "light"
     },
     "output_type": "display_data"
    }
   ],
   "source": [
    "fig = plt.figure()\n",
    "ax = plt.axes()\n",
    "\n",
    "x = data.iloc[97:,0]\n",
    "y = data.iloc[97:,5] #global\n",
    "z = data.iloc[97:,8] -8 #city\n",
    "ax.plot(x, z) \n",
    "ax.plot(x, y);"
   ]
  },
  {
   "cell_type": "markdown",
   "metadata": {},
   "source": [
    "Calculation of average per 50 year (last segment includes 60 years)"
   ]
  },
  {
   "cell_type": "code",
   "execution_count": 15,
   "metadata": {},
   "outputs": [
    {
     "name": "stdout",
     "output_type": "stream",
     "text": [
      "5\n"
     ]
    },
    {
     "data": {
      "text/plain": [
       "8"
      ]
     },
     "execution_count": 15,
     "metadata": {},
     "output_type": "execute_result"
    }
   ],
   "source": [
    "print(data.columns.get_loc(\"global_avg_5\"))\n",
    "data.columns.get_loc(\"city_avg_5\")"
   ]
  },
  {
   "cell_type": "code",
   "execution_count": 16,
   "metadata": {},
   "outputs": [],
   "source": [
    "avg_global = []\n",
    "avg_athens = []\n",
    "years = []\n",
    "difference = []\n",
    "i = 0\n",
    "year = 1753\n",
    "\n",
    "\n",
    "for j in range(5): #average per 50 years calculation\n",
    "\n",
    "    \n",
    "    if(i<200):\n",
    "        avg_global.append(data.iloc[i:(i+49),5].dropna().mean())\n",
    "        avg_athens.append(data.iloc[i:(i+49),8].dropna().mean())\n",
    "        years.append(str(year)+\"-\"+str(year+49))\n",
    "        difference.append(avg_athens[j]-avg_global[j])\n",
    "        \n",
    "    else:\n",
    "        avg_global.append(data.iloc[i:,5].dropna().mean())\n",
    "        avg_athens.append(data.iloc[i:,8].dropna().mean())\n",
    "        years.append(str(year)+\"-\"+str(2013)) \n",
    "        difference.append(avg_athens[j]-avg_global[j])\n",
    "        \n",
    "    i = i + 50\n",
    "    year = year + 50"
   ]
  },
  {
   "cell_type": "code",
   "execution_count": 17,
   "metadata": {},
   "outputs": [],
   "source": [
    "df = pd.DataFrame(list(zip(years, avg_athens, avg_global,difference)), columns=[\"Years\", \"Athens\", \"Global\", \"Difference\"])"
   ]
  },
  {
   "cell_type": "code",
   "execution_count": 18,
   "metadata": {},
   "outputs": [
    {
     "data": {
      "text/html": [
       "<div>\n",
       "<style scoped>\n",
       "    .dataframe tbody tr th:only-of-type {\n",
       "        vertical-align: middle;\n",
       "    }\n",
       "\n",
       "    .dataframe tbody tr th {\n",
       "        vertical-align: top;\n",
       "    }\n",
       "\n",
       "    .dataframe thead th {\n",
       "        text-align: right;\n",
       "    }\n",
       "</style>\n",
       "<table border=\"1\" class=\"dataframe\">\n",
       "  <thead>\n",
       "    <tr style=\"text-align: right;\">\n",
       "      <th></th>\n",
       "      <th>Years</th>\n",
       "      <th>Athens</th>\n",
       "      <th>Global</th>\n",
       "      <th>Difference</th>\n",
       "    </tr>\n",
       "  </thead>\n",
       "  <tbody>\n",
       "    <tr>\n",
       "      <th>0</th>\n",
       "      <td>1753-1802</td>\n",
       "      <td>17.387333</td>\n",
       "      <td>8.210089</td>\n",
       "      <td>9.177244</td>\n",
       "    </tr>\n",
       "    <tr>\n",
       "      <th>1</th>\n",
       "      <td>1803-1852</td>\n",
       "      <td>17.016286</td>\n",
       "      <td>7.876735</td>\n",
       "      <td>9.139551</td>\n",
       "    </tr>\n",
       "    <tr>\n",
       "      <th>2</th>\n",
       "      <td>1853-1902</td>\n",
       "      <td>17.248816</td>\n",
       "      <td>8.132980</td>\n",
       "      <td>9.115837</td>\n",
       "    </tr>\n",
       "    <tr>\n",
       "      <th>3</th>\n",
       "      <td>1903-1952</td>\n",
       "      <td>17.531388</td>\n",
       "      <td>8.477388</td>\n",
       "      <td>9.054000</td>\n",
       "    </tr>\n",
       "    <tr>\n",
       "      <th>4</th>\n",
       "      <td>1953-2013</td>\n",
       "      <td>17.767934</td>\n",
       "      <td>8.941869</td>\n",
       "      <td>8.826066</td>\n",
       "    </tr>\n",
       "  </tbody>\n",
       "</table>\n",
       "</div>"
      ],
      "text/plain": [
       "       Years     Athens    Global  Difference\n",
       "0  1753-1802  17.387333  8.210089    9.177244\n",
       "1  1803-1852  17.016286  7.876735    9.139551\n",
       "2  1853-1902  17.248816  8.132980    9.115837\n",
       "3  1903-1952  17.531388  8.477388    9.054000\n",
       "4  1953-2013  17.767934  8.941869    8.826066"
      ]
     },
     "execution_count": 18,
     "metadata": {},
     "output_type": "execute_result"
    }
   ],
   "source": [
    "df"
   ]
  },
  {
   "cell_type": "markdown",
   "metadata": {},
   "source": [
    "It can be clearly seen that Athens is hotter compared to the global average. (Observation 3)\n",
    "\n",
    "The difference between the average temperature in Athens and the global average temperature has remained roughly the same at 9 degrees. (Observation 4)"
   ]
  },
  {
   "cell_type": "code",
   "execution_count": 19,
   "metadata": {},
   "outputs": [
    {
     "data": {
      "image/png": "[encoded data removed]",
      "text/plain": [
       "<Figure size 432x288 with 1 Axes>"
      ]
     },
     "metadata": {
      "needs_background": "light"
     },
     "output_type": "display_data"
    }
   ],
   "source": [
    "fig = plt.figure()\n",
    "ax = plt.axes()\n",
    "\n",
    "x = data.iloc[4:,0]\n",
    "y = data.iloc[4:,5] #global\n",
    "ax.plot(x, y);"
   ]
  },
  {
   "cell_type": "markdown",
   "metadata": {},
   "source": [
    "It can be clearly seen from the line graph that for the years between 1750 and 1850 the temperature was fluctuating, until it reached a minimum at approximately 1830. Afterwards, the global temperature, as well as the temperature in Athens, have been gradually increasing. Seeing that pattern it can be safely assumed that the world is indeed getting hotter. (Observation 5)\n",
    "\n",
    "A rough estimation of that increase would be that the temperature is increasing by 0.5 every 50 years or by 1 every 100 year. (Observation 6)"
   ]
  },
  {
   "cell_type": "markdown",
   "metadata": {},
   "source": [
    "It should also be noted that until 1850, increased temperatures used to be compensated by low temperatures, thus keeping the average steady in the long term. It is safe to assume that temperatures used to cycle between low and hot. That pattern seems to have been disturbed, after the year 1850 temperature has been increasing without decreasing after a given period of time, as it used to before. (Observation 7)"
   ]
  },
  {
   "cell_type": "code",
   "execution_count": 29,
   "metadata": {},
   "outputs": [
    {
     "data": {
      "text/html": [
       "<div>\n",
       "<style scoped>\n",
       "    .dataframe tbody tr th:only-of-type {\n",
       "        vertical-align: middle;\n",
       "    }\n",
       "\n",
       "    .dataframe tbody tr th {\n",
       "        vertical-align: top;\n",
       "    }\n",
       "\n",
       "    .dataframe thead th {\n",
       "        text-align: right;\n",
       "    }\n",
       "</style>\n",
       "<table border=\"1\" class=\"dataframe\">\n",
       "  <thead>\n",
       "    <tr style=\"text-align: right;\">\n",
       "      <th></th>\n",
       "      <th>global_avg_5</th>\n",
       "      <th>city_avg_5</th>\n",
       "    </tr>\n",
       "  </thead>\n",
       "  <tbody>\n",
       "    <tr>\n",
       "      <th>global_avg_5</th>\n",
       "      <td>1.000000</td>\n",
       "      <td>0.866516</td>\n",
       "    </tr>\n",
       "    <tr>\n",
       "      <th>city_avg_5</th>\n",
       "      <td>0.866516</td>\n",
       "      <td>1.000000</td>\n",
       "    </tr>\n",
       "  </tbody>\n",
       "</table>\n",
       "</div>"
      ],
      "text/plain": [
       "              global_avg_5  city_avg_5\n",
       "global_avg_5      1.000000    0.866516\n",
       "city_avg_5        0.866516    1.000000"
      ]
     },
     "execution_count": 29,
     "metadata": {},
     "output_type": "execute_result"
    }
   ],
   "source": [
    "cor = data.loc[:,[\"global_avg_5\", \"city_avg_5\"]]\n",
    "cor.dropna(inplace=True)\n",
    "pearson_correlation = cor.corr()\n",
    "pearson_correlation"
   ]
  },
  {
   "cell_type": "markdown",
   "metadata": {},
   "source": [
    "Positive correlation shows the two temperatures have an almost linear relationship and as one of them increases the other one should follow (Observation 8)"
   ]
  },
  {
   "cell_type": "code",
   "execution_count": null,
   "metadata": {},
   "outputs": [],
   "source": []
  },
  {
   "cell_type": "code",
   "execution_count": 34,
   "metadata": {},
   "outputs": [],
   "source": [
    "from sklearn import preprocessing\n",
    "from sklearn.model_selection import KFold\n",
    "from sklearn.linear_model import LinearRegression\n",
    "\n",
    "import numpy as np"
   ]
  },
  {
   "cell_type": "code",
   "execution_count": 44,
   "metadata": {},
   "outputs": [],
   "source": [
    "X = cor[\"global_avg_5\"].values.reshape(-1, 1)  # values converts it into a numpy array\n",
    "y = cor[\"city_avg_5\"].values.reshape(-1, 1)  # values converts it into a numpy array\n",
    "model = LinearRegression(normalize=True)\n",
    "\n",
    "model.fit(X, y)\n",
    "score = model.score(X, y)"
   ]
  },
  {
   "cell_type": "code",
   "execution_count": 45,
   "metadata": {},
   "outputs": [
    {
     "data": {
      "text/plain": [
       "0.7508498883090051"
      ]
     },
     "execution_count": 45,
     "metadata": {},
     "output_type": "execute_result"
    }
   ],
   "source": [
    "score"
   ]
  },
  {
   "cell_type": "code",
   "execution_count": 46,
   "metadata": {},
   "outputs": [],
   "source": [
    "test = np.array([5,10,15,20]).reshape(-1, 1) "
   ]
  },
  {
   "cell_type": "code",
   "execution_count": 47,
   "metadata": {},
   "outputs": [
    {
     "data": {
      "text/plain": [
       "array([[14.99974654],\n",
       "       [18.58822826],\n",
       "       [22.17670998],\n",
       "       [25.7651917 ]])"
      ]
     },
     "execution_count": 47,
     "metadata": {},
     "output_type": "execute_result"
    }
   ],
   "source": [
    "model.predict(test)"
   ]
  },
  {
   "cell_type": "markdown",
   "metadata": {},
   "source": [
    "The above model can predict the avg temperature in Athens given the avg temperature in the world (Observation 9)"
   ]
  },
  {
   "cell_type": "markdown",
   "metadata": {},
   "source": [
    "As can been seen from the predictions, the avg temperature is approximately 8 degrees hotter compared to the global avg, a similar value has been found comparing the values previously (Observation 10)"
   ]
  },
  {
   "cell_type": "code",
   "execution_count": null,
   "metadata": {},
   "outputs": [],
   "source": []
  },
  {
   "cell_type": "code",
   "execution_count": null,
   "metadata": {},
   "outputs": [],
   "source": []
  },
  {
   "cell_type": "code",
   "execution_count": null,
   "metadata": {},
   "outputs": [],
   "source": []
  },
  {
   "cell_type": "code",
   "execution_count": null,
   "metadata": {},
   "outputs": [],
   "source": []
  }
 ],
 "metadata": {
  "kernelspec": {
   "display_name": "Python 3",
   "language": "python",
   "name": "python3"
  },
  "language_info": {
   "codemirror_mode": {
    "name": "ipython",
    "version": 3
   },
   "file_extension": ".py",
   "mimetype": "text/x-python",
   "name": "python",
   "nbconvert_exporter": "python",
   "pygments_lexer": "ipython3",
   "version": "3.7.6"
  }
 },
 "nbformat": 4,
 "nbformat_minor": 4
}
